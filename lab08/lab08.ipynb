{
  "nbformat": 4,
  "nbformat_minor": 0,
  "metadata": {
    "colab": {
      "provenance": [],
      "authorship_tag": "ABX9TyPX/WXk6H7KU9NdOnSorMSV",
      "include_colab_link": true
    },
    "kernelspec": {
      "name": "python3",
      "display_name": "Python 3"
    },
    "language_info": {
      "name": "python"
    }
  },
  "cells": [
    {
      "cell_type": "markdown",
      "metadata": {
        "id": "view-in-github",
        "colab_type": "text"
      },
      "source": [
        "<a href=\"https://colab.research.google.com/github/c212/a310-fall2022-arojha/blob/main/lab08/lab08.ipynb\" target=\"_parent\"><img src=\"https://colab.research.google.com/assets/colab-badge.svg\" alt=\"Open In Colab\"/></a>"
      ]
    },
    {
      "cell_type": "code",
      "execution_count": 2,
      "metadata": {
        "colab": {
          "base_uri": "https://localhost:8080/"
        },
        "id": "PIamNpPdcGof",
        "outputId": "347cb838-6836-48fd-a952-b7645b8e8b4b"
      },
      "outputs": [
        {
          "output_type": "stream",
          "name": "stdout",
          "text": [
            "[1 2 3]\n"
          ]
        }
      ],
      "source": [
        "import numpy as np\n",
        "# Creating a 1D array from a list\n",
        "# Creating a 1D array from a list\n",
        "a = np.array([1, 2, 3])\n",
        "print(a)"
      ]
    },
    {
      "cell_type": "code",
      "source": [
        "b = np.array([[1, 2],\n",
        " [3, 4]])\n",
        "print(b)"
      ],
      "metadata": {
        "colab": {
          "base_uri": "https://localhost:8080/"
        },
        "id": "OXzuPApkdFxU",
        "outputId": "70aba78d-562f-49bc-a8b2-afaf91a7e9fd"
      },
      "execution_count": 4,
      "outputs": [
        {
          "output_type": "stream",
          "name": "stdout",
          "text": [
            "[[1 2]\n",
            " [3 4]]\n"
          ]
        }
      ]
    },
    {
      "cell_type": "code",
      "source": [
        "c = np.array([[[1, 2], [3, 4]],\n",
        " [[5, 6], [7, 8]]])\n",
        "print(c)"
      ],
      "metadata": {
        "colab": {
          "base_uri": "https://localhost:8080/"
        },
        "id": "VchD2kcic_SU",
        "outputId": "5b182966-5300-4cc5-ddfe-7c26424fac81"
      },
      "execution_count": 3,
      "outputs": [
        {
          "output_type": "stream",
          "name": "stdout",
          "text": [
            "[[[1 2]\n",
            "  [3 4]]\n",
            "\n",
            " [[5 6]\n",
            "  [7 8]]]\n"
          ]
        }
      ]
    },
    {
      "cell_type": "code",
      "source": [
        "# Creating a 3D array from a list of lists of lists\n",
        "c = np.array([[[1, 2], [3, 4]],\n",
        " [[5, 6], [7, 8]]])\n",
        "print(c)"
      ],
      "metadata": {
        "colab": {
          "base_uri": "https://localhost:8080/"
        },
        "id": "N_cZQdBqdKtz",
        "outputId": "64c6f2cb-b4bf-404d-f769-9bcf780967ae"
      },
      "execution_count": 5,
      "outputs": [
        {
          "output_type": "stream",
          "name": "stdout",
          "text": [
            "[[[1 2]\n",
            "  [3 4]]\n",
            "\n",
            " [[5 6]\n",
            "  [7 8]]]\n"
          ]
        }
      ]
    },
    {
      "cell_type": "code",
      "source": [
        "a = np.array([[1, 0, 0],\n",
        " [1, 1, 1],\n",
        " [2, 0, 0]])\n",
        "b = np.array([[1, 1, 1],\n",
        " [1, 1, 2],\n",
        " [1, 1, 2]])\n",
        "print(a + b)"
      ],
      "metadata": {
        "colab": {
          "base_uri": "https://localhost:8080/"
        },
        "id": "f9-hu5uLdauy",
        "outputId": "0d5b692c-a299-4333-fcd1-39350de9d22c"
      },
      "execution_count": 6,
      "outputs": [
        {
          "output_type": "stream",
          "name": "stdout",
          "text": [
            "[[2 1 1]\n",
            " [2 2 3]\n",
            " [3 1 2]]\n"
          ]
        }
      ]
    },
    {
      "cell_type": "code",
      "source": [
        "print(a - b)"
      ],
      "metadata": {
        "colab": {
          "base_uri": "https://localhost:8080/"
        },
        "id": "7tjvpg9udiYk",
        "outputId": "a9506562-1b76-4c3b-ca68-671581e76a7e"
      },
      "execution_count": 7,
      "outputs": [
        {
          "output_type": "stream",
          "name": "stdout",
          "text": [
            "[[ 0 -1 -1]\n",
            " [ 0  0 -1]\n",
            " [ 1 -1 -2]]\n"
          ]
        }
      ]
    },
    {
      "cell_type": "code",
      "source": [
        "print(a * b)\n"
      ],
      "metadata": {
        "colab": {
          "base_uri": "https://localhost:8080/"
        },
        "id": "asRpJppvdkTj",
        "outputId": "bd466900-05c9-4604-d6c1-fe94ea4d1046"
      },
      "execution_count": 8,
      "outputs": [
        {
          "output_type": "stream",
          "name": "stdout",
          "text": [
            "[[1 0 0]\n",
            " [1 1 2]\n",
            " [2 0 0]]\n"
          ]
        }
      ]
    },
    {
      "cell_type": "code",
      "source": [
        "print(a / b)"
      ],
      "metadata": {
        "colab": {
          "base_uri": "https://localhost:8080/"
        },
        "id": "oHV1h4YHduqC",
        "outputId": "30a9631b-0df5-4874-f703-e304fcd403cc"
      },
      "execution_count": 9,
      "outputs": [
        {
          "output_type": "stream",
          "name": "stdout",
          "text": [
            "[[1.  0.  0. ]\n",
            " [1.  1.  0.5]\n",
            " [2.  0.  0. ]]\n"
          ]
        }
      ]
    },
    {
      "cell_type": "code",
      "source": [
        "import numpy as np\n",
        "a = np.array([[1, 0, 0],\n",
        " [1, 1, 1],\n",
        " [2, 0, 0]])\n",
        "print(np.max(a))\n",
        "# 2\n",
        "print(np.min(a))\n",
        "# 0\n",
        "print(np.average(a))\n",
        "# 0.6666666666666666"
      ],
      "metadata": {
        "colab": {
          "base_uri": "https://localhost:8080/"
        },
        "id": "W8z7HheCd2li",
        "outputId": "018a6e2d-87bf-4854-bb4e-497ade1d7bea"
      },
      "execution_count": 10,
      "outputs": [
        {
          "output_type": "stream",
          "name": "stdout",
          "text": [
            "2\n",
            "0\n",
            "0.6666666666666666\n"
          ]
        }
      ]
    },
    {
      "cell_type": "code",
      "source": [
        "## Dependencies\n",
        "import numpy as np\n",
        "## Data: yearly salary in ($1000) [2017, 2018, 2019]\n",
        "alice = [99, 101, 103]\n",
        "bob = [110, 108, 105]\n",
        "tim = [90, 88, 85]\n",
        "salaries = np.array([alice, bob, tim])\n",
        "taxation = np.array([[0.2, 0.25, 0.22],\n",
        " [0.4, 0.5, 0.5],\n",
        " [0.1, 0.2, 0.1]])\n",
        "## One-liner\n",
        "max_income = np.max(salaries - salaries * taxation)\n",
        "\n",
        "## Result\n",
        "print(max_income)"
      ],
      "metadata": {
        "colab": {
          "base_uri": "https://localhost:8080/"
        },
        "id": "APcWgZ8QeBAu",
        "outputId": "d75f26a8-d36b-4fc4-82b2-54a618457adb"
      },
      "execution_count": 11,
      "outputs": [
        {
          "output_type": "stream",
          "name": "stdout",
          "text": [
            "81.0\n"
          ]
        }
      ]
    },
    {
      "cell_type": "code",
      "source": [
        "print(salaries - salaries * taxation)"
      ],
      "metadata": {
        "colab": {
          "base_uri": "https://localhost:8080/"
        },
        "id": "TuyoV2S5eVI8",
        "outputId": "4efa4724-986a-4a36-94a2-ddeb9b811588"
      },
      "execution_count": 12,
      "outputs": [
        {
          "output_type": "stream",
          "name": "stdout",
          "text": [
            "[[79.2  75.75 80.34]\n",
            " [66.   54.   52.5 ]\n",
            " [81.   70.4  76.5 ]]\n"
          ]
        }
      ]
    },
    {
      "cell_type": "code",
      "source": [
        "a = np.array([55, 56, 57, 58, 59, 60, 61])\n",
        "print(a)\n",
        "# [55 56 57 58 59 60 61]\n",
        "print(a[:])\n",
        "# [55 56 57 58 5"
      ],
      "metadata": {
        "colab": {
          "base_uri": "https://localhost:8080/"
        },
        "id": "mLQ6SRbaeba1",
        "outputId": "c9959e27-2bea-4cb8-e476-cee769a01729"
      },
      "execution_count": 13,
      "outputs": [
        {
          "output_type": "stream",
          "name": "stdout",
          "text": [
            "[55 56 57 58 59 60 61]\n",
            "[55 56 57 58 59 60 61]\n"
          ]
        }
      ]
    },
    {
      "cell_type": "code",
      "source": [
        "print(a[1:6])"
      ],
      "metadata": {
        "colab": {
          "base_uri": "https://localhost:8080/"
        },
        "id": "A0lYHgJWess1",
        "outputId": "3034036d-c805-43af-f1b7-98b587ddcaf9"
      },
      "execution_count": 15,
      "outputs": [
        {
          "output_type": "stream",
          "name": "stdout",
          "text": [
            "[56 57 58 59 60]\n"
          ]
        }
      ]
    },
    {
      "cell_type": "code",
      "source": [
        "print(a[2:-2])"
      ],
      "metadata": {
        "id": "00kCRTmYe32d"
      },
      "execution_count": null,
      "outputs": []
    },
    {
      "cell_type": "code",
      "source": [
        "print(a[::2])"
      ],
      "metadata": {
        "colab": {
          "base_uri": "https://localhost:8080/"
        },
        "id": "0dOdwfMkfRK2",
        "outputId": "2c3536b3-d395-4d79-bff7-43b134467be5"
      },
      "execution_count": 18,
      "outputs": [
        {
          "output_type": "stream",
          "name": "stdout",
          "text": [
            "[55 57 59 61]\n"
          ]
        }
      ]
    },
    {
      "cell_type": "code",
      "source": [
        "print(a[::-1])"
      ],
      "metadata": {
        "colab": {
          "base_uri": "https://localhost:8080/"
        },
        "id": "ri05vH8dfWkX",
        "outputId": "0350474d-deaa-4b98-b81d-e00b8fe6b54d"
      },
      "execution_count": 17,
      "outputs": [
        {
          "output_type": "stream",
          "name": "stdout",
          "text": [
            "[61 60 59 58 57 56 55]\n"
          ]
        }
      ]
    },
    {
      "cell_type": "code",
      "source": [
        "a = np.array([[0, 1, 2, 3],\n",
        " [4, 5, 6, 7],\n",
        " [8, 9, 10, 11],\n",
        " [12, 13, 14, 15]])\n",
        "print(a)"
      ],
      "metadata": {
        "colab": {
          "base_uri": "https://localhost:8080/"
        },
        "id": "i3SuzLw1feoO",
        "outputId": "18da5f68-ecc4-462b-a358-66027e8d8046"
      },
      "execution_count": 21,
      "outputs": [
        {
          "output_type": "stream",
          "name": "stdout",
          "text": [
            "[[ 0  1  2  3]\n",
            " [ 4  5  6  7]\n",
            " [ 8  9 10 11]\n",
            " [12 13 14 15]]\n"
          ]
        }
      ]
    },
    {
      "cell_type": "code",
      "source": [
        "print(a[:, 2])\n",
        "# Third col: [ 2 6 10 14]"
      ],
      "metadata": {
        "colab": {
          "base_uri": "https://localhost:8080/"
        },
        "id": "BWxuZfX3f7Y3",
        "outputId": "79c74965-04ee-48db-a9a4-bf3e838aae73"
      },
      "execution_count": 20,
      "outputs": [
        {
          "output_type": "stream",
          "name": "stdout",
          "text": [
            "[ 2  6 10 14]\n"
          ]
        }
      ]
    },
    {
      "cell_type": "code",
      "source": [
        "print(a[1, :])\n",
        "# Second row: ["
      ],
      "metadata": {
        "colab": {
          "base_uri": "https://localhost:8080/"
        },
        "id": "2-SBq6cLgDvQ",
        "outputId": "a13c3f2b-4506-41aa-ac24-dcaa930450a2"
      },
      "execution_count": 22,
      "outputs": [
        {
          "output_type": "stream",
          "name": "stdout",
          "text": [
            "[4 5 6 7]\n"
          ]
        }
      ]
    },
    {
      "cell_type": "code",
      "source": [
        "print(a[1, ::2])"
      ],
      "metadata": {
        "colab": {
          "base_uri": "https://localhost:8080/"
        },
        "id": "UHw5PcaWgHlQ",
        "outputId": "829b97fb-25c5-40d6-a52b-1d2aa7c8e94c"
      },
      "execution_count": 23,
      "outputs": [
        {
          "output_type": "stream",
          "name": "stdout",
          "text": [
            "[4 6]\n"
          ]
        }
      ]
    },
    {
      "cell_type": "code",
      "source": [
        "a = np.array([1, 2, 3, 4])\n",
        "a = np.array([1, 2, 3, 4,4,6,76,8])\n",
        "print(a.ndim)\n",
        "# 1\n",
        "b = np.array([[2, 1, 2], [3, 2, 3], [4, 3, 4]])\n",
        "print(b.ndim)\n",
        "# 2\n",
        "c = np.array([[[1, 2, 3], [2, 3, 4], [3, 4, 5]],\n",
        " [[1, 2, 4], [2, 3, 5], [3, 4, 6]]])\n",
        "print(c.ndim)"
      ],
      "metadata": {
        "colab": {
          "base_uri": "https://localhost:8080/"
        },
        "id": "OloSe-gJgQoY",
        "outputId": "4d6900b5-17c0-420b-e02d-37b6dd7d2964"
      },
      "execution_count": 27,
      "outputs": [
        {
          "output_type": "stream",
          "name": "stdout",
          "text": [
            "1\n",
            "2\n",
            "3\n"
          ]
        }
      ]
    },
    {
      "cell_type": "code",
      "source": [
        "print(c.shape)"
      ],
      "metadata": {
        "colab": {
          "base_uri": "https://localhost:8080/"
        },
        "id": "xLCLVwxmgeAK",
        "outputId": "83fd75e3-a8e6-43eb-9fa8-1bb599c8b022"
      },
      "execution_count": 30,
      "outputs": [
        {
          "output_type": "stream",
          "name": "stdout",
          "text": [
            "(2, 3, 3)\n"
          ]
        }
      ]
    },
    {
      "cell_type": "code",
      "source": [
        "a = np.array([1, 2, 3, 4], dtype=np.int16)\n",
        "print(a) # [1 2 3 4]\n",
        "print(a.dtype) # int16"
      ],
      "metadata": {
        "colab": {
          "base_uri": "https://localhost:8080/"
        },
        "id": "ShuExIBDgt6Q",
        "outputId": "7833d056-1b60-40db-8700-647de4986276"
      },
      "execution_count": 31,
      "outputs": [
        {
          "output_type": "stream",
          "name": "stdout",
          "text": [
            "[1 2 3 4]\n",
            "int16\n"
          ]
        }
      ]
    },
    {
      "cell_type": "code",
      "source": [
        "b = np.array([1, 2, 3, 4], dtype=np.float64)\n",
        "print(b) # [1. 2. 3. 4.]\n",
        "print(b.dtype) # float64"
      ],
      "metadata": {
        "colab": {
          "base_uri": "https://localhost:8080/"
        },
        "id": "MSrTmsc7hRvw",
        "outputId": "916ee8db-2de7-4ee2-bcb4-4f881a544195"
      },
      "execution_count": 32,
      "outputs": [
        {
          "output_type": "stream",
          "name": "stdout",
          "text": [
            "[1. 2. 3. 4.]\n",
            "float64\n"
          ]
        }
      ]
    },
    {
      "cell_type": "code",
      "source": [
        "## Data: yearly salary in ($1000) [2025, 2026, 2027]\n",
        "dataScientist = [130, 132, 137]\n",
        "productManager = [127, 140, 145]\n",
        "designer = [118, 118, 127]\n",
        "softwareEngineer = [129, 131, 137]\n",
        "employees = np.array([dataScientist,\n",
        " productManager,\n",
        " designer,\n",
        " softwareEngineer])\n",
        "## One-liner\n",
        "employees[2,::2] = employees[2,::2] * 1.1\n",
        "## Result\n",
        "print(employees)"
      ],
      "metadata": {
        "colab": {
          "base_uri": "https://localhost:8080/"
        },
        "id": "AqVrB0crhUHY",
        "outputId": "97f9f293-e4d8-449b-b834-646c16cb0ba4"
      },
      "execution_count": 34,
      "outputs": [
        {
          "output_type": "stream",
          "name": "stdout",
          "text": [
            "[[130 132 137]\n",
            " [127 140 145]\n",
            " [129 118 139]\n",
            " [129 131 137]]\n"
          ]
        }
      ]
    },
    {
      "cell_type": "code",
      "source": [
        "print(np.array([130,137]) * 1.1)"
      ],
      "metadata": {
        "colab": {
          "base_uri": "https://localhost:8080/"
        },
        "id": "pEMhjgr0hs3n",
        "outputId": "dcefa985-6752-4b74-e0fb-0e1722d46022"
      },
      "execution_count": 37,
      "outputs": [
        {
          "output_type": "stream",
          "name": "stdout",
          "text": [
            "[143.  150.7]\n"
          ]
        }
      ]
    },
    {
      "cell_type": "code",
      "source": [
        "X = np.array([[1, 0, 0],\n",
        " [0, 2, 2],\n",
        " [3, 0, 0]])\n",
        "print(np.nonzero(X))"
      ],
      "metadata": {
        "colab": {
          "base_uri": "https://localhost:8080/"
        },
        "id": "9V3meW-Wh8TP",
        "outputId": "f68b8ff8-2d2b-4571-8b6e-4529cf8d180d"
      },
      "execution_count": 38,
      "outputs": [
        {
          "output_type": "stream",
          "name": "stdout",
          "text": [
            "(array([0, 1, 1, 2]), array([0, 1, 2, 0]))\n"
          ]
        }
      ]
    },
    {
      "cell_type": "code",
      "source": [
        "X = np.array([[1, 0, 0],\n",
        " [0, 2, 2],\n",
        " [3, 0, 0]])\n",
        "print(X == 2)\n",
        "\"\"\"\n",
        "[[False False False]\n",
        " [False True True]\n",
        " [False False False]]\n",
        " \"\"\""
      ],
      "metadata": {
        "colab": {
          "base_uri": "https://localhost:8080/",
          "height": 87
        },
        "id": "ekb2uNTJiQ3w",
        "outputId": "1afc9cae-3b36-406f-c26d-90307c8d7386"
      },
      "execution_count": 39,
      "outputs": [
        {
          "output_type": "stream",
          "name": "stdout",
          "text": [
            "[[False False False]\n",
            " [False  True  True]\n",
            " [False False False]]\n"
          ]
        },
        {
          "output_type": "execute_result",
          "data": {
            "text/plain": [
              "'\\n[[False False False]\\n [False True True]\\n [False False False]]\\n '"
            ],
            "application/vnd.google.colaboratory.intrinsic+json": {
              "type": "string"
            }
          },
          "metadata": {},
          "execution_count": 39
        }
      ]
    },
    {
      "cell_type": "code",
      "source": [
        "## Data: air quality index AQI data (row = city)\n",
        "X = np.array(\n",
        " [[ 42, 40, 41, 43, 44, 43 ], # Hong Kong\n",
        " [ 30, 31, 29, 29, 29, 30 ], # New York\n",
        " [ 8, 13, 31, 11, 11, 9 ], # Berlin\n",
        " [ 11, 11, 12, 13, 11, 12 ]]) # Montreal\n",
        "cities = np.array([\"Hong Kong\", \"New York\", \"Berlin\", \"Montreal\"])\n",
        "## One-liner\n",
        "polluted = set(cities[np.nonzero(X > np.average(X))[0]])\n",
        "## Result\n",
        "print(polluted)"
      ],
      "metadata": {
        "colab": {
          "base_uri": "https://localhost:8080/"
        },
        "id": "CZ5ebkVJigtS",
        "outputId": "73bebc9d-9adc-409f-9e58-a62567bba166"
      },
      "execution_count": 40,
      "outputs": [
        {
          "output_type": "stream",
          "name": "stdout",
          "text": [
            "{'Berlin', 'Hong Kong', 'New York'}\n"
          ]
        }
      ]
    },
    {
      "cell_type": "code",
      "source": [
        "print(X > np.average(X))"
      ],
      "metadata": {
        "colab": {
          "base_uri": "https://localhost:8080/"
        },
        "id": "o9mbGCzKiuZE",
        "outputId": "c5d335fd-a361-4e90-9976-c762a9664328"
      },
      "execution_count": 41,
      "outputs": [
        {
          "output_type": "stream",
          "name": "stdout",
          "text": [
            "[[ True  True  True  True  True  True]\n",
            " [ True  True  True  True  True  True]\n",
            " [False False  True False False False]\n",
            " [False False False False False False]]\n"
          ]
        }
      ]
    },
    {
      "cell_type": "code",
      "source": [
        "print(np.nonzero(X > np.average(X)))"
      ],
      "metadata": {
        "colab": {
          "base_uri": "https://localhost:8080/"
        },
        "id": "GJ7wRv4Ai1Fb",
        "outputId": "5d75135f-a169-4483-eeed-a8d983411ce0"
      },
      "execution_count": 42,
      "outputs": [
        {
          "output_type": "stream",
          "name": "stdout",
          "text": [
            "(array([0, 0, 0, 0, 0, 0, 1, 1, 1, 1, 1, 1, 2]), array([0, 1, 2, 3, 4, 5, 0, 1, 2, 3, 4, 5, 2]))\n"
          ]
        }
      ]
    },
    {
      "cell_type": "code",
      "source": [
        "print(cities[np.nonzero(X > np.average(X))[0]])"
      ],
      "metadata": {
        "colab": {
          "base_uri": "https://localhost:8080/"
        },
        "id": "Rxeh_eDajJrT",
        "outputId": "8223fc95-914b-4bd4-ff13-8b577c34f530"
      },
      "execution_count": 43,
      "outputs": [
        {
          "output_type": "stream",
          "name": "stdout",
          "text": [
            "['Hong Kong' 'Hong Kong' 'Hong Kong' 'Hong Kong' 'Hong Kong' 'Hong Kong'\n",
            " 'New York' 'New York' 'New York' 'New York' 'New York' 'New York'\n",
            " 'Berlin']\n"
          ]
        }
      ]
    },
    {
      "cell_type": "code",
      "source": [
        "a = np.array([[1, 2, 3],\n",
        " [4, 5, 6],\n",
        " [7, 8, 9]])\n",
        "indices = np.array([[False, False, True],\n",
        " [False, True, False],\n",
        " [True, True, False]])\n",
        "print(a[indices])"
      ],
      "metadata": {
        "colab": {
          "base_uri": "https://localhost:8080/"
        },
        "id": "39IijVorjXpc",
        "outputId": "11ab158d-ec8b-44c7-9763-7736d5d67102"
      },
      "execution_count": 45,
      "outputs": [
        {
          "output_type": "stream",
          "name": "stdout",
          "text": [
            "[3 5 7 8]\n"
          ]
        }
      ]
    },
    {
      "cell_type": "code",
      "source": [
        "## Data: popular Instagram accounts (millions followers)\n",
        "inst = np.array([[232, \"@instagram\"],\n",
        " [133, \"@selenagomez\"],\n",
        " [59, \"@victoriassecret\"],\n",
        " [120, \"@cristiano\"],\n",
        " [111, \"@beyonce\"],\n",
        " [76, \"@nike\"]])\n",
        "## One-liner\n",
        "superstars = inst[inst[:,0].astype(float) > 100, 1]\n",
        "## Results\n",
        "print(superstars)"
      ],
      "metadata": {
        "colab": {
          "base_uri": "https://localhost:8080/"
        },
        "id": "Oso0Yl1ojl0E",
        "outputId": "dd680530-d6a9-4d29-fac3-d3e419788377"
      },
      "execution_count": 46,
      "outputs": [
        {
          "output_type": "stream",
          "name": "stdout",
          "text": [
            "['@instagram' '@selenagomez' '@cristiano' '@beyonce']\n"
          ]
        }
      ]
    },
    {
      "cell_type": "code",
      "source": [],
      "metadata": {
        "id": "fYP1rrzSj9wm"
      },
      "execution_count": null,
      "outputs": []
    },
    {
      "cell_type": "code",
      "source": [
        "a = np.array(['a'] * 16)\n",
        "print(a)\n",
        "# [4 4 4 4 4 4 4 4 4 4 4 4 4 4 4 4]\n",
        "a[1::] = [42] * 15\n",
        "print(a)\n",
        "# [ 4 42 42 42 42 42 42 42 42 42 42 42 42 42 42 42]"
      ],
      "metadata": {
        "colab": {
          "base_uri": "https://localhost:8080/"
        },
        "id": "LD88GWAgjzEU",
        "outputId": "7ea14442-c08b-4cc8-87dc-4b7bae562283"
      },
      "execution_count": 49,
      "outputs": [
        {
          "output_type": "stream",
          "name": "stdout",
          "text": [
            "['a' 'a' 'a' 'a' 'a' 'a' 'a' 'a' 'a' 'a' 'a' 'a' 'a' 'a' 'a' 'a']\n",
            "['a' '4' '4' '4' '4' '4' '4' '4' '4' '4' '4' '4' '4' '4' '4' '4']\n"
          ]
        }
      ]
    },
    {
      "cell_type": "code",
      "source": [
        "a = np.array([4] * 16)\n",
        "a[1:8:2] = 16\n",
        "print(a)\n"
      ],
      "metadata": {
        "colab": {
          "base_uri": "https://localhost:8080/"
        },
        "id": "gw6gV7ijkIcu",
        "outputId": "0e73a84a-575e-4c6e-9178-345f9c184f13"
      },
      "execution_count": 50,
      "outputs": [
        {
          "output_type": "stream",
          "name": "stdout",
          "text": [
            "[ 4 16  4 16  4 16  4 16  4  4  4  4  4  4  4  4]\n"
          ]
        }
      ]
    },
    {
      "cell_type": "code",
      "source": [
        "a = np.array([1, 2, 3, 4, 5, 6,7,8])\n",
        "print(a.reshape((4, 2)))\n"
      ],
      "metadata": {
        "colab": {
          "base_uri": "https://localhost:8080/"
        },
        "id": "5ARa4AFukYVH",
        "outputId": "b77ed21d-3747-4acf-8bad-2cf871a7d849"
      },
      "execution_count": 54,
      "outputs": [
        {
          "output_type": "stream",
          "name": "stdout",
          "text": [
            "[[1 2]\n",
            " [3 4]\n",
            " [5 6]\n",
            " [7 8]]\n"
          ]
        }
      ]
    },
    {
      "cell_type": "code",
      "source": [
        "a = np.array([1, 2, 3, 4, 5, 6,4,8])\n",
        "print(a.reshape((2, -1)))"
      ],
      "metadata": {
        "colab": {
          "base_uri": "https://localhost:8080/"
        },
        "id": "cD4GfTH0krod",
        "outputId": "b2945061-8c00-4fb4-82be-b062606ded35"
      },
      "execution_count": 56,
      "outputs": [
        {
          "output_type": "stream",
          "name": "stdout",
          "text": [
            "[[1 2 3 4]\n",
            " [5 6 4 8]]\n"
          ]
        }
      ]
    },
    {
      "cell_type": "code",
      "source": [
        "# daily stock prices\n",
        "# [morning, midday, evening]\n",
        "solar_x = np.array(\n",
        " [[1, 2, 3], # today\n",
        " [2, 2, 5]]) # yesterday\n",
        "# midday - weighted average\n",
        "print(np.average(solar_x, axis=0))"
      ],
      "metadata": {
        "colab": {
          "base_uri": "https://localhost:8080/"
        },
        "id": "crb7l49pk6Pe",
        "outputId": "81fcccf0-7999-4ab9-cfd5-fba271412817"
      },
      "execution_count": 59,
      "outputs": [
        {
          "output_type": "stream",
          "name": "stdout",
          "text": [
            "[1.5 2.  4. ]\n"
          ]
        }
      ]
    },
    {
      "cell_type": "code",
      "source": [
        "## Sensor data (Mo, Tu, We, Th, Fr, Sa, Su)\n",
        "tmp = np.array([1, 2, 3, 4, 3, 4, 4,\n",
        " 5, 3, 3, 4, 3, 4, 6,\n",
        " 6, 5, 5, 5, 4, 5, 5])\n",
        "## One-liner\n",
        "tmp[6::7] = np.average(tmp.reshape((-1,7)), axis=1)\n",
        "## Result\n",
        "print(tmp)"
      ],
      "metadata": {
        "colab": {
          "base_uri": "https://localhost:8080/"
        },
        "id": "zgV7nin2lTOu",
        "outputId": "a74e6927-4c2f-430c-9a3a-002ef83b96ac"
      },
      "execution_count": 60,
      "outputs": [
        {
          "output_type": "stream",
          "name": "stdout",
          "text": [
            "[1 2 3 4 3 4 3 5 3 3 4 3 4 4 6 5 5 5 4 5 5]\n"
          ]
        }
      ]
    },
    {
      "cell_type": "code",
      "source": [
        "print(tmp.reshape((-1,7)))"
      ],
      "metadata": {
        "colab": {
          "base_uri": "https://localhost:8080/"
        },
        "id": "lKXG-Kz-lpY3",
        "outputId": "bbedd336-a05a-4d69-a364-c84c24fbad67"
      },
      "execution_count": 61,
      "outputs": [
        {
          "output_type": "stream",
          "name": "stdout",
          "text": [
            "[[1 2 3 4 3 4 3]\n",
            " [5 3 3 4 3 4 4]\n",
            " [6 5 5 5 4 5 5]]\n"
          ]
        }
      ]
    },
    {
      "cell_type": "code",
      "source": [
        "a = np.array([10, 6, 8, 2, 5, 4, 9, 1])\n",
        "print(np.sort(a))"
      ],
      "metadata": {
        "colab": {
          "base_uri": "https://localhost:8080/"
        },
        "id": "JMvLqxThlzyQ",
        "outputId": "abc8fcca-5379-4cf0-a556-56586ccb8135"
      },
      "execution_count": 62,
      "outputs": [
        {
          "output_type": "stream",
          "name": "stdout",
          "text": [
            "[ 1  2  4  5  6  8  9 10]\n"
          ]
        }
      ]
    },
    {
      "cell_type": "code",
      "source": [
        "print(np.argsort(a))"
      ],
      "metadata": {
        "colab": {
          "base_uri": "https://localhost:8080/"
        },
        "id": "2N9128WSmKpf",
        "outputId": "37001436-2340-4502-ad27-d97f53d73851"
      },
      "execution_count": 63,
      "outputs": [
        {
          "output_type": "stream",
          "name": "stdout",
          "text": [
            "[7 3 5 4 1 2 6 0]\n"
          ]
        }
      ]
    },
    {
      "cell_type": "code",
      "source": [
        "a = np.array([[1, 6, 2],\n",
        " [5, 1, 1],\n",
        " [8, 0, 1]])\n",
        "print(a)\n",
        "print()\n",
        "print(np.sort(a, axis=0))"
      ],
      "metadata": {
        "colab": {
          "base_uri": "https://localhost:8080/"
        },
        "id": "Ap-SuOEBmSy4",
        "outputId": "efc2a168-4fc3-40d2-88cf-a59250dceb5a"
      },
      "execution_count": 66,
      "outputs": [
        {
          "output_type": "stream",
          "name": "stdout",
          "text": [
            "[[1 6 2]\n",
            " [5 1 1]\n",
            " [8 0 1]]\n",
            "\n",
            "[[1 0 1]\n",
            " [5 1 1]\n",
            " [8 6 2]]\n"
          ]
        }
      ]
    },
    {
      "cell_type": "code",
      "source": [
        "print(np.sort(a, axis=1))"
      ],
      "metadata": {
        "colab": {
          "base_uri": "https://localhost:8080/"
        },
        "id": "fDkM-MPGmgP3",
        "outputId": "1545eda9-b727-4cbc-bfdf-ebbcdcfa1fa9"
      },
      "execution_count": 67,
      "outputs": [
        {
          "output_type": "stream",
          "name": "stdout",
          "text": [
            "[[1 2 6]\n",
            " [1 1 5]\n",
            " [0 1 8]]\n"
          ]
        }
      ]
    },
    {
      "cell_type": "code",
      "source": [
        "sat_scores = np.array([1100, 1256, 1543, 1043, 989, 1412, 1343])\n",
        "students = np.array([\"John\", \"Bob\", \"Alice\", \"Joe\", \"Jane\", \"Frank\", \"Carl\"])\n",
        "## One-liner\n",
        "print(students[np.argsort(sat_scores)])\n",
        "top_3 = students[np.argsort(sat_scores)][:3]\n",
        "## Result\n",
        "print(top_3)"
      ],
      "metadata": {
        "colab": {
          "base_uri": "https://localhost:8080/"
        },
        "id": "d5TTkTcTmmUu",
        "outputId": "322a0d47-aac8-4174-fa58-561b51d4cdf1"
      },
      "execution_count": 71,
      "outputs": [
        {
          "output_type": "stream",
          "name": "stdout",
          "text": [
            "['Jane' 'Joe' 'John' 'Bob' 'Carl' 'Frank' 'Alice']\n",
            "['Jane' 'Joe' 'John']\n"
          ]
        }
      ]
    },
    {
      "cell_type": "code",
      "source": [
        "books = np.array([['Coffee Break NumPy', 4.6],\n",
        " ['Lord of the Rings', 5.0],\n",
        " ['Harry Potter', 4.3],\n",
        " ['Winnie-the-Pooh', 3.9],\n",
        " ['The Clown of God', 2.2],\n",
        " ['Coffee Break Python', 4.7]])\n",
        "## One-liner\n",
        "predict_bestseller = lambda x, y : x[x[:,1].astype(float) > y]\n",
        "## Results\n",
        "def predict_bestseller_1(b,v):\n",
        "  for i in range(len(books)):\n",
        "    if float(books[i,1])>v:\n",
        "      print(books[i,0])\n",
        "print(predict_bestseller(books, 3.9))\n",
        "predict_bestseller_1(books, 3.9)"
      ],
      "metadata": {
        "colab": {
          "base_uri": "https://localhost:8080/"
        },
        "id": "rHodFTjlnHO9",
        "outputId": "2bf2359f-f116-4095-dd31-a76668b2d046"
      },
      "execution_count": 76,
      "outputs": [
        {
          "output_type": "stream",
          "name": "stdout",
          "text": [
            "[['Coffee Break NumPy' '4.6']\n",
            " ['Lord of the Rings' '5.0']\n",
            " ['Harry Potter' '4.3']\n",
            " ['Coffee Break Python' '4.7']]\n",
            "Coffee Break NumPy\n",
            "Lord of the Rings\n",
            "Harry Potter\n",
            "Coffee Break Python\n",
            "None\n"
          ]
        }
      ]
    },
    {
      "cell_type": "code",
      "source": [
        "import matplotlib.pyplot as plt\n",
        "sequence = np.random.normal(10.0, 1.0, 500)\n",
        "#print(sequence)\n",
        "#plt.xkcd()\n",
        "plt.hist(sequence)\n",
        "plt.annotate(r\"$\\omega_1=9$\", (9, 70))\n",
        "plt.annotate(r\"$\\omega_2=11$\", (11, 70))\n",
        "plt.annotate(r\"$\\mu=10$\", (10, 90))\n",
        "#plt.savefig(\"plot.jpg\")\n",
        "plt.show()"
      ],
      "metadata": {
        "colab": {
          "base_uri": "https://localhost:8080/",
          "height": 271
        },
        "id": "udxNjsLxoKpD",
        "outputId": "13c1fd35-7ccc-425e-8885-14182bf60f14"
      },
      "execution_count": 81,
      "outputs": [
        {
          "output_type": "display_data",
          "data": {
            "text/plain": [
              "<Figure size 432x288 with 1 Axes>"
            ],
            "image/png": "[encoded data removed]"
          },
          "metadata": {}
        }
      ]
    },
    {
      "cell_type": "code",
      "source": [
        "a = np.array([1, -1, 2, -2])\n",
        "print(a)\n",
        "# [ 1 -1 2 -2]\n",
        "print(np.abs(a))"
      ],
      "metadata": {
        "colab": {
          "base_uri": "https://localhost:8080/"
        },
        "id": "eKK4Jdxfo3Ay",
        "outputId": "17a8b9a2-4c6d-4ec9-fa06-401eb48879bc"
      },
      "execution_count": 82,
      "outputs": [
        {
          "output_type": "stream",
          "name": "stdout",
          "text": [
            "[ 1 -1  2 -2]\n",
            "[1 1 2 2]\n"
          ]
        }
      ]
    },
    {
      "cell_type": "code",
      "source": [
        "a = np.array([True, True, True, False])\n",
        "b = np.array([False, True, True, False])\n",
        "print(np.logical_xor(a, b))"
      ],
      "metadata": {
        "colab": {
          "base_uri": "https://localhost:8080/"
        },
        "id": "k6mMvIEHo9qM",
        "outputId": "88e59871-2e16-4097-dbf8-c4b48d3c405c"
      },
      "execution_count": 85,
      "outputs": [
        {
          "output_type": "stream",
          "name": "stdout",
          "text": [
            "[ True False False False]\n"
          ]
        }
      ]
    },
    {
      "cell_type": "markdown",
      "source": [
        "https://www.computerscience.gcse.guru/wp-content/uploads/2017/03/a_logic_circuit.png"
      ],
      "metadata": {
        "id": "kU1hPEx2pfj8"
      }
    },
    {
      "cell_type": "code",
      "source": [
        "## Website analytics data:\n",
        "## (row = day), (col = users, bounce, duration)\n",
        "a = np.array([[815, 70, 115],\n",
        " [767, 80, 50],\n",
        " [912, 74, 77],\n",
        " [554, 88, 70],\n",
        " [1008, 65, 128]])\n",
        "mean, stdev = np.mean(a, axis=0), np.std(a, axis=0)\n",
        "# [811.2 76.4 88. ], [152.97764543 6.85857128 29.04479299]\n",
        "## One-liner\n",
        "outliers = ((np.abs(a[:,0] - mean[0]) > stdev[0])\n",
        " * (np.abs(a[:,1] - mean[1]) > stdev[1])\n",
        " * (np.abs(a[:,2] - mean[2]) > stdev[2]))"
      ],
      "metadata": {
        "id": "CcvCgDAepjok"
      },
      "execution_count": 91,
      "outputs": []
    },
    {
      "cell_type": "code",
      "source": [],
      "metadata": {
        "id": "FHkTo75Vqbd8"
      },
      "execution_count": null,
      "outputs": []
    },
    {
      "cell_type": "code",
      "source": [
        "print(a[outliers])"
      ],
      "metadata": {
        "colab": {
          "base_uri": "https://localhost:8080/"
        },
        "id": "5InBLLkkp148",
        "outputId": "1848d9e2-f47c-4625-e6be-0f4cc9602b7f"
      },
      "execution_count": 92,
      "outputs": [
        {
          "output_type": "stream",
          "name": "stdout",
          "text": [
            "[[1008   65  128]]\n"
          ]
        }
      ]
    },
    {
      "cell_type": "code",
      "source": [
        "basket = np.array([[0, 1, 1, 0],\n",
        " [0, 0, 0, 1],\n",
        " [1, 1, 0, 0],\n",
        " [0, 1, 1, 1],\n",
        " [1, 1, 1, 0],\n",
        " [0, 1, 1, 0],\n",
        " [1, 1, 0, 1],\n",
        " [1, 1, 1, 1]])"
      ],
      "metadata": {
        "id": "TOY_sF7iqqIv"
      },
      "execution_count": 94,
      "outputs": []
    },
    {
      "cell_type": "code",
      "source": [
        "basket.shape"
      ],
      "metadata": {
        "colab": {
          "base_uri": "https://localhost:8080/"
        },
        "id": "m9I60ubeq-9U",
        "outputId": "be28e75d-8bf0-439c-c4be-7577d8323d29"
      },
      "execution_count": 97,
      "outputs": [
        {
          "output_type": "execute_result",
          "data": {
            "text/plain": [
              "(8, 4)"
            ]
          },
          "metadata": {},
          "execution_count": 97
        }
      ]
    },
    {
      "cell_type": "code",
      "source": [
        "copurchases = np.sum(np.all(basket[:,2:], axis = 1)) / basket.shape[0]"
      ],
      "metadata": {
        "id": "G1daOv_GqtxE"
      },
      "execution_count": 95,
      "outputs": []
    },
    {
      "cell_type": "code",
      "source": [
        "print(copurchases)"
      ],
      "metadata": {
        "colab": {
          "base_uri": "https://localhost:8080/"
        },
        "id": "JEu2BNgtqudt",
        "outputId": "93d15aba-5e0d-4856-e231-f7be1e083f66"
      },
      "execution_count": 96,
      "outputs": [
        {
          "output_type": "stream",
          "name": "stdout",
          "text": [
            "0.25\n"
          ]
        }
      ]
    },
    {
      "cell_type": "code",
      "source": [
        "copurchases = [(i,j,np.sum(basket[:,i] + basket[:,j] == 2))for i in range(4) for j in range(i+1,4)]"
      ],
      "metadata": {
        "id": "tZIGlz7GrIes"
      },
      "execution_count": 98,
      "outputs": []
    },
    {
      "cell_type": "code",
      "source": [
        "print(max(copurchases, key=lambda x:x[2]))"
      ],
      "metadata": {
        "colab": {
          "base_uri": "https://localhost:8080/"
        },
        "id": "pqMh3Wx7rT9M",
        "outputId": "23f52ace-12cc-4e7d-cc2a-0770dd122572"
      },
      "execution_count": 99,
      "outputs": [
        {
          "output_type": "stream",
          "name": "stdout",
          "text": [
            "(1, 2, 5)\n"
          ]
        }
      ]
    }
  ]
}